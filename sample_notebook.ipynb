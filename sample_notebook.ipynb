{
 "cells": [
  {
   "cell_type": "markdown",
   "id": "indirect-ethiopia",
   "metadata": {},
   "source": [
    "Goal: To find out which product sell best.\n"
   ]
  },
  {
   "cell_type": "code",
   "execution_count": 15,
   "id": "noble-dancing",
   "metadata": {},
   "outputs": [
    {
     "name": "stdout",
     "output_type": "stream",
     "text": [
      "The sql extension is already loaded. To reload it, use:\n",
      "  %reload_ext sql\n"
     ]
    }
   ],
   "source": [
    "# !pip install ipython_sql\n",
    "%load_ext sql"
   ]
  },
  {
   "cell_type": "code",
   "execution_count": 21,
   "id": "atlantic-sympathy",
   "metadata": {},
   "outputs": [
    {
     "name": "stdout",
     "output_type": "stream",
     "text": [
      " * sqlite:///sales.sqlite.db\n",
      "Done.\n"
     ]
    }
   ],
   "source": [
    "%sql sqlite:///sales.sqlite.db\n",
    "sales = %sql SELECT * FROM SALES WHERE isdeleted = 0"
   ]
  },
  {
   "cell_type": "code",
   "execution_count": 22,
   "id": "swiss-andrew",
   "metadata": {},
   "outputs": [
    {
     "data": {
      "image/png": "[encoded data removed]",
      "text/plain": [
       "<Figure size 432x288 with 1 Axes>"
      ]
     },
     "metadata": {
      "needs_background": "light"
     },
     "output_type": "display_data"
    }
   ],
   "source": [
    "import seaborn as sns\n",
    "sales_df = sales.DataFrame()\n",
    "sales_df = sales_df.groupby('ProductId', as_index=False).sum()\n",
    "ax = sns.barplot(x='ProductId', y='Unit', data=sales_df)\n",
    "ax.set_title('Sales by ProductId');"
   ]
  },
  {
   "cell_type": "markdown",
   "id": "asian-medicare",
   "metadata": {},
   "source": [
    "# Results\n",
    "Product 2 is the most popular item."
   ]
  },
  {
   "cell_type": "code",
   "execution_count": null,
   "id": "blind-meter",
   "metadata": {},
   "outputs": [],
   "source": []
  }
 ],
 "metadata": {
  "kernelspec": {
   "display_name": "Python 3",
   "language": "python",
   "name": "python3"
  },
  "language_info": {
   "codemirror_mode": {
    "name": "ipython",
    "version": 3
   },
   "file_extension": ".py",
   "mimetype": "text/x-python",
   "name": "python",
   "nbconvert_exporter": "python",
   "pygments_lexer": "ipython3",
   "version": "3.8.3"
  },
  "toc": {
   "base_numbering": 1,
   "nav_menu": {},
   "number_sections": true,
   "sideBar": true,
   "skip_h1_title": false,
   "title_cell": "Table of Contents",
   "title_sidebar": "Contents",
   "toc_cell": false,
   "toc_position": {},
   "toc_section_display": true,
   "toc_window_display": false
  }
 },
 "nbformat": 4,
 "nbformat_minor": 5
}
